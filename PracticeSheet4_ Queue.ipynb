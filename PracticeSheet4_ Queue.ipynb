{
 "cells": [
  {
   "cell_type": "markdown",
   "metadata": {
    "id": "7UtFNFxVbXE2"
   },
   "source": [
    "<center> <img src =\"https://i.postimg.cc/1X8H7YYt/BITS-Logo.png\" width = \"400\" alt=\"BITS Pilani Logo\" /> </center>"
   ]
  },
  {
   "cell_type": "markdown",
   "metadata": {
    "id": "lvH55dTbbXE3"
   },
   "source": [
    "<font color='green'> <h1> <center> Data Structures and Algorithm Design - Practice Sheet 3 </center> </h1> </font>"
   ]
  },
  {
   "cell_type": "markdown",
   "metadata": {
    "id": "FiRV0ZVQbXE4"
   },
   "source": [
    "<font color='brown'> <h2> <center> Queue </center> </h2> </font>"
   ]
  },
  {
   "cell_type": "markdown",
   "metadata": {
    "id": "q_sWUpJwbXE4"
   },
   "source": [
    "<font color='gray'> <h3> Description: </h3> </font>\n",
    "\n",
    "A Queue is a collection of objects that are inserted and removed according to the first-in, first-out (FIFO) principle. That is, elements can be inserted at any time, but only the element that has been in the queue the longest can be next removed.\n",
    "We usually say that elements enter a queue at the back and are removed from the front. A metaphor for this terminology is a line of people waiting to get on an amusement park ride. People waiting for such a ride enter at the back of the line and get on the ride from the front of the line. There are many other applications of queues (see Figure 6.4). Stores, theaters, reservation centers, and other similar services typically process customer requests according to the FIFO principle. A queue would therefore be a logical choice for a data structure to handle calls to a customer service center, or a wait-list at a restaurant. FIFO queues are also used by many computing devices, such as a networked printer, or a Web server responding to requests."
   ]
  },
  {
   "cell_type": "markdown",
   "metadata": {
    "id": "Xkoe_HPPbXE5"
   },
   "source": [
    "<font color='gray'> <h3> The objectives of this exercise are: </h3> </font>\n",
    "- 1. Implemeting a queue data structure\n",
    "- 2. Using the queue data structure"
   ]
  },
  {
   "cell_type": "code",
   "execution_count": 19,
   "metadata": {
    "id": "XB2cRH3qbXE5"
   },
   "outputs": [],
   "source": [
    "# This is a queue data structure which allows you to add values and remove them \n",
    "# based on FIFO (First In First Out) order\n",
    "\n",
    "class AQueue:\n",
    "   #FIFO implementation of a queue using Python list as underlying storage\n",
    "    \n",
    "    default_capacity = 10    # moderate capacity for testing.\n",
    "    \n",
    "    def __init__(self):\n",
    "        \"\"\"\n",
    "        Creates an empty Queue object\n",
    "        \"\"\"\n",
    "        self._data = [None] * AQueue.default_capacity\n",
    "        self._size = 0\n",
    "        self._front = 0\n",
    "\n",
    "    def __len__(self):\n",
    "        \"\"\"\n",
    "        Returns the nummber of elements in the queue \n",
    "        \"\"\"\n",
    "        return self._size\n",
    "    \n",
    "    def is_empty(self):\n",
    "        \"\"\"\n",
    "        Returns True if the queue is empty\n",
    "        \"\"\"\n",
    "        return self._size == 0  # if the size of the queue equals zero then the comparison is true and True is returned\n",
    "        \n",
    "        \n",
    "    def first(self):\n",
    "        \"\"\"\n",
    "        Return (but do not remove) the element at the front of the queue.\n",
    "        Raise Empty exception if the queue is empty\n",
    "        \"\"\"\n",
    "        if self.is_empty():\n",
    "            raise Empty('Queue is empty')\n",
    "        return self._data[self._front]\n",
    "        \n",
    "    \n",
    "    def dequeue(self):\n",
    "        \"\"\"\n",
    "        Remove and return the first element of the queue (FIFO)\n",
    "        Raise Empty exception if the queue is empty\n",
    "        \"\"\"\n",
    "        \n",
    "        if self.is_empty():\n",
    "            raise Empty('Queue is empty')\n",
    "        \n",
    "        answer = self._data[self._front]\n",
    "        self._data[self._front] = None        # help garbage collection\n",
    "        self._front = (self._front + 1) % len (self._data)\n",
    "        self._size -= 1\n",
    "        return answer      \n",
    "        \n",
    "    def enqueue(self, e):\n",
    "        \"\"\"\n",
    "        Add an element to the back of the queue\n",
    "        \"\"\"\n",
    "        if self._size == len(self._data):\n",
    "            self._resize(2*len(self.data))           # if the arrray has reached its max size, then double the size of the array\n",
    "           \n",
    "        avail = (self._front + self._size) % len (self._data)           # find the available position to insert the element\n",
    "        self._data[avail]=e                          # insert the new element in the available position\n",
    "        self._size += 1\n",
    "        \n",
    "    def _resize(self, cap):                          # assume cap > = len(self)\n",
    "        \"\"\"\n",
    "        Resize to a new list of capacity >=len(self)\n",
    "        \"\"\"\n",
    "        old = self._data                            # keep track of existing list\n",
    "        self._data = [None] * cap                   # allocate list with new capacity\n",
    "        walk = self._front\n",
    "        for k in range (self._size):                # only conside existing elements\n",
    "            self._data[k] = old[walk]               # intentionally shift indices\n",
    "            walk = (1 + walk) % len(old)            # use old size as modulus\n",
    "        self._front = 0                             # front has been realigned\n",
    "        "
   ]
  },
  {
   "cell_type": "code",
   "execution_count": 20,
   "metadata": {
    "colab": {
     "base_uri": "https://localhost:8080/"
    },
    "id": "_tA6VMIc46IB",
    "outputId": "453298f3-9b71-401e-db5b-4ae26d8a04ef"
   },
   "outputs": [
    {
     "name": "stdout",
     "output_type": "stream",
     "text": [
      "My current queue is [1, 2, 3, 4, 5, None, None, None, None, None]\n",
      "Length of my current queue is 5\n",
      "Removed 1 from the front of the queue\n",
      "Removed 2 from the front of the queue\n",
      "My current queue is [None, None, 3, 4, 5, 6, 7, None, None, None]\n",
      "Length of my current queue is 5\n",
      "My current queue is [11, 12, 3, 4, 5, 6, 7, 8, 9, 10]\n",
      "Length of my current queue is 10\n",
      "Removed 3 from the front of the queue\n",
      "My current queue is [11, 12, None, 4, 5, 6, 7, 8, 9, 10]\n",
      "Length of my current queue is 9\n"
     ]
    }
   ],
   "source": [
    "my_queue = AQueue()\n",
    "my_queue.enqueue(1)\n",
    "my_queue.enqueue(2)\n",
    "my_queue.enqueue(3)\n",
    "my_queue.enqueue(4)\n",
    "my_queue.enqueue(5)\n",
    "\n",
    "print(f'My current queue is {my_queue._data}')\n",
    "print(f'Length of my current queue is {len(my_queue)}')\n",
    "\n",
    "removed = my_queue.dequeue()\n",
    "print(f'Removed {removed} from the front of the queue')\n",
    "removed = my_queue.dequeue()\n",
    "print(f'Removed {removed} from the front of the queue')\n",
    "\n",
    "my_queue.enqueue(6)\n",
    "my_queue.enqueue(7)\n",
    "\n",
    "print(f'My current queue is {my_queue._data}')\n",
    "print(f'Length of my current queue is {len(my_queue)}')\n",
    "\n",
    "my_queue.enqueue(8)\n",
    "my_queue.enqueue(9)\n",
    "my_queue.enqueue(10)\n",
    "my_queue.enqueue(11)\n",
    "my_queue.enqueue(12)\n",
    "\n",
    "\n",
    "print(f'My current queue is {my_queue._data}')\n",
    "print(f'Length of my current queue is {len(my_queue)}')\n",
    "\n",
    "removed = my_queue.dequeue()\n",
    "print(f'Removed {removed} from the front of the queue')\n",
    "\n",
    "print(f'My current queue is {my_queue._data}')\n",
    "print(f'Length of my current queue is {len(my_queue)}')\n"
   ]
  },
  {
   "cell_type": "markdown",
   "metadata": {
    "id": "GO08Rl17bXE-"
   },
   "source": [
    "<font color='gray'> <h3> Exercises:</h3> </font> \n",
    "  1. Add more elements to the queue and check if the size of the queue changes.\n",
    "  2. Delete all elements from the queue until you get and Empty queue exception. \n",
    "  3. Instead of manually entering multiple function calls to add elements.Convert the code to use a for loop to automatically insert x number of elements in the queue.  "
   ]
  },
  {
   "cell_type": "markdown",
   "metadata": {
    "id": "pi3yplMvbXE-"
   },
   "source": [
    "<font color='gray'> <h3> Summary:</h3> </font>  \n",
    "1. Through this lab exercise we learnt and implemented the queue data structure\n",
    "\n",
    "2. We also looked at how queue sizes can be resized on a need basis and using memory resources more efficiently. "
   ]
  },
  {
   "cell_type": "markdown",
   "metadata": {
    "id": "TfwduDL_bXE_"
   },
   "source": [
    "For queries on this practice sheet, please contact john.gonsalves@wilp.bits-pilani.ac.in\n"
   ]
  },
  {
   "cell_type": "markdown",
   "metadata": {
    "id": "hnnCW0L2bXE_"
   },
   "source": [
    "<b> Disclaimer <b> : Some of the contents of this Notebook is adopted from Data Structures and Algorithm Design by Michael T. Goodrich, Roberto Tamassia, Michael H. Goldwasser"
   ]
  }
 ],
 "metadata": {
  "colab": {
   "collapsed_sections": [],
   "name": "PracticeSheet3_Stack.ipynb",
   "provenance": []
  },
  "kernelspec": {
   "display_name": "Python 3",
   "language": "python",
   "name": "python3"
  },
  "language_info": {
   "codemirror_mode": {
    "name": "ipython",
    "version": 3
   },
   "file_extension": ".py",
   "mimetype": "text/x-python",
   "name": "python",
   "nbconvert_exporter": "python",
   "pygments_lexer": "ipython3",
   "version": "3.7.3"
  }
 },
 "nbformat": 4,
 "nbformat_minor": 1
}
