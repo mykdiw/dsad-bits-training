{
  "nbformat": 4,
  "nbformat_minor": 0,
  "metadata": {
    "kernelspec": {
      "display_name": "Python 3",
      "language": "python",
      "name": "python3"
    },
    "language_info": {
      "codemirror_mode": {
        "name": "ipython",
        "version": 3
      },
      "file_extension": ".py",
      "mimetype": "text/x-python",
      "name": "python",
      "nbconvert_exporter": "python",
      "pygments_lexer": "ipython3",
      "version": "3.8.5"
    },
    "colab": {
      "name": "PracticeSheet2_LinkedList.ipynb",
      "provenance": [],
      "collapsed_sections": []
    }
  },
  "cells": [
    {
      "cell_type": "markdown",
      "metadata": {
        "id": "OjEefnQoryK1"
      },
      "source": [
        "<center> <img src =\"https://i.postimg.cc/1X8H7YYt/BITS-Logo.png\" width = \"400\" alt=\"BITS Pilani Logo\" /> </center>"
      ]
    },
    {
      "cell_type": "markdown",
      "metadata": {
        "id": "Wr_m8v2_ryK5"
      },
      "source": [
        "<font color='green'> <h1> <center> Data Structures and Algorithm Design - Practice Sheet 2 </center> </h1> </font>"
      ]
    },
    {
      "cell_type": "markdown",
      "metadata": {
        "id": "Vmap4YjUryK6"
      },
      "source": [
        "<font color='brown'> <h2> <center> Experiments on Linked Lists </center> </h2> </font>"
      ]
    },
    {
      "cell_type": "markdown",
      "metadata": {
        "id": "zybumcClryK8"
      },
      "source": [
        "<font color='gray'> <h3> Description: </h3> </font>\n",
        "\n",
        "A linked list is an alternative to an array-based sequence like list. It is a dynamic data structure where data is not stored at contiguous memory locations and hence it is easy to update linked lists. A linked list stores value of the item and the pointer to the next item for each item in the memory location. A node constitutes a pair of linked list items and the reference to next item."
      ]
    },
    {
      "cell_type": "markdown",
      "metadata": {
        "id": "wGaWtKxmryK9"
      },
      "source": [
        "<font color='gray'> <h3> The objectives of this exercise are: </h3> </font>\n",
        "- 1. Implement a Singly Linked List with creation, insertion, deletion, traversal etc. functions\n",
        "- 2. Implement a stack ADT with a Singly Linked List"
      ]
    },
    {
      "cell_type": "code",
      "metadata": {
        "id": "yzSfXwk0pt1U"
      },
      "source": [
        "# Implement a general Singly Linked List with creation, insertion, deletion, traversal etc. functions\n",
        "class LinkedList:\n",
        "\n",
        "  # class for storing a singly linked node\n",
        "  class _Node: \n",
        "    __slots__ = '_element' , '_next'                        # streamline memory usage\n",
        "    \n",
        "    def __init__(self, element, next):                      # initialize node’s fields\n",
        "      self._element = element                               # reference to user’s element\n",
        "      self._next = next                                     # reference to next node\n",
        "\n",
        "  #Create an empty linked list\n",
        "  def __init__(self):\n",
        "    self._head = None                                       # reference to the head node\n",
        "    self._size = 0                                          # number of list elements\n",
        "\n",
        "  #Return the number of elements in the linked list\n",
        "  def __len__(self):\n",
        "    return self._size\n",
        "\n",
        "  #Return True if the linked list is empty\n",
        "  def is_empty(self):\n",
        "    return self._size == 0\n",
        "\n",
        "  # traverse all elements\n",
        "  def traverse_list(self):\n",
        "    if self.is_empty( ):\n",
        "        print(\"List has no element\")\n",
        "        return\n",
        "    else:\n",
        "        n = self._head\n",
        "        while n is not None:\n",
        "            print(n._element , \" \")\n",
        "            n = n._next\n",
        "\n",
        "  #Add element e to the beginning of the linked list\n",
        "  def insert_at_start(self, e):\n",
        "    self._head = self._Node(e, self._head)                  # create and link a new node\n",
        "    self._size += 1\n",
        "\n",
        "  #Add an element e to the end of the linked list\n",
        "  def insert_at_end(self, e):\n",
        "    newest = self._Node(e, None)                            # node will be new tail node\n",
        "    if self.is_empty( ):\n",
        "      self._head = newest                                   # special case: previously empty\n",
        "      return\n",
        "    n = self._head\n",
        "    while n._next is not None:\n",
        "      n = n._next\n",
        "    \n",
        "    n._next = newest\n",
        "    self._size += 1\n",
        "\n",
        "  #Return (but do not remove) the first element of the linked list\n",
        "  def top(self):\n",
        "    if self.is_empty( ):                                    # Raise Empty exception if the stack is empty\n",
        "      raise Empty('Stack is empty')\n",
        "    return self._head._element                              # first element of the linked list is at head of list\n",
        "\n",
        "  #Remove and return the element from the top of the linked list\n",
        "  def pop(self):\n",
        "    if self.is_empty( ):                                    # Raise Empty exception if the stack is empty\n",
        "      raise Empty('Stack is empty')\n",
        "    answer = self._head._element\n",
        "    self._head = self._head._next                           # bypass the former top node\n",
        "    self._size = self._size - 1\n",
        "    return answer\n"
      ],
      "execution_count": null,
      "outputs": []
    },
    {
      "cell_type": "code",
      "metadata": {
        "colab": {
          "base_uri": "https://localhost:8080/"
        },
        "id": "oNjZtJ5xq3n_",
        "outputId": "5f9315a0-0546-4163-dba4-b0f8e0be0ce4"
      },
      "source": [
        "# Testing the implementation of singly linked list functions\n",
        "new_linked_list = LinkedList()                               # create an object of the linked list class\n",
        "new_linked_list.insert_at_start(5)                           # add four elements at the beginning of linked list\n",
        "new_linked_list.insert_at_start(2)\n",
        "new_linked_list.insert_at_start(6)\n",
        "new_linked_list.insert_at_start(1)\n",
        "print(\"Linked List length: \", new_linked_list.__len__())     # Return the number of elements\n",
        "new_linked_list.traverse_list()                              # Traverse the list"
      ],
      "execution_count": null,
      "outputs": [
        {
          "output_type": "stream",
          "text": [
            "Linked List length:  4\n",
            "1  \n",
            "6  \n",
            "2  \n",
            "5  \n"
          ],
          "name": "stdout"
        }
      ]
    },
    {
      "cell_type": "code",
      "metadata": {
        "colab": {
          "base_uri": "https://localhost:8080/"
        },
        "id": "vzwlYUX-x7yo",
        "outputId": "a6ed12c2-af56-4434-d19d-280b123b95c8"
      },
      "source": [
        "# Testing the implementation of singly linked list functions\n",
        "new_linked_list.insert_at_end(15)                             # add elements at the end of linked list\n",
        "new_linked_list.insert_at_end(20) \n",
        "print(\"Linked List length: \", new_linked_list.__len__())      # Return the number of elements\n",
        "new_linked_list.traverse_list()                               # Traverse the list"
      ],
      "execution_count": null,
      "outputs": [
        {
          "output_type": "stream",
          "text": [
            "Linked List length:  6\n",
            "1  \n",
            "6  \n",
            "2  \n",
            "5  \n",
            "15  \n",
            "20  \n"
          ],
          "name": "stdout"
        }
      ]
    },
    {
      "cell_type": "code",
      "metadata": {
        "colab": {
          "base_uri": "https://localhost:8080/"
        },
        "id": "pt8mEJKRzXNY",
        "outputId": "5dce5159-8dc4-424b-d46e-b34cbb3069fe"
      },
      "source": [
        "# Testing the implementation of singly linked list functions\n",
        "print(\"Top element of Linked List: \", new_linked_list.top())          # Return the element at top of the linked list\n",
        "print(\"Element removed from top of list: \", new_linked_list.pop())    # Remove and return element at top of the linked list\n",
        "print(\"New top element: \", new_linked_list.top())                     # Return the new element at top of the linked list"
      ],
      "execution_count": null,
      "outputs": [
        {
          "output_type": "stream",
          "text": [
            "Top element of Linked List:  1\n",
            "Element removed from top of list:  1\n",
            "New top element:  6\n"
          ],
          "name": "stdout"
        }
      ]
    },
    {
      "cell_type": "code",
      "metadata": {
        "id": "E-zXfQi8ryLH"
      },
      "source": [
        "# Implement a stack with a Singly Linked List\n",
        "class LinkedStack:\n",
        "  # LIFO Stack implementation using a singly linked list\n",
        "\n",
        "  # class for storing a singly linked node\n",
        "  class _Node: \n",
        "    __slots__ = '_element' , '_next'                        # streamline memory usage\n",
        "    \n",
        "    def __init__(self, element, next):                      # initialize node’s fields\n",
        "      self._element = element                               # reference to user’s element\n",
        "      self._next = next                                     # reference to next node\n",
        "\n",
        "  #Create an empty stack\n",
        "  def __init__(self):\n",
        "    self._head = None                                       # reference to the head node\n",
        "    self._size = 0                                          # number of stack elements\n",
        "\n",
        "  #Return the number of elements in the stack\n",
        "  def __len__(self):\n",
        "    return self._size\n",
        "\n",
        "  #Return True if the stack is empty\n",
        "  def is_empty(self):\n",
        "    return self._size == 0\n",
        "\n",
        "  #Add element e to the top of the stack\n",
        "  def push(self, e):\n",
        "    self._head = self._Node(e, self._head)                  # create and link a new node\n",
        "    self._size += 1\n",
        "\n",
        "  #Return (but do not remove) the element at the top of the stack\n",
        "  def top(self):\n",
        "    if self.is_empty( ):                                    # Raise Empty exception if the stack is empty\n",
        "      raise Empty('Stack is empty')\n",
        "    return self._head._element                              # top of stack is at head of list\n",
        "\n",
        "  #Remove and return the element from the top of the stack (i.e., LIFO)\n",
        "  def pop(self):\n",
        "    if self.is_empty( ):                                    # Raise Empty exception if the stack is empty\n",
        "      raise Empty('Stack is empty')\n",
        "    answer = self._head._element\n",
        "    self._head = self._head._next                           # bypass the former top node\n",
        "    self._size = self._size - 1\n",
        "    return answer"
      ],
      "execution_count": null,
      "outputs": []
    },
    {
      "cell_type": "code",
      "metadata": {
        "colab": {
          "base_uri": "https://localhost:8080/"
        },
        "id": "cIVnqmwz5_g-",
        "outputId": "fd069501-f9da-45c4-86f4-3810ce9e6138"
      },
      "source": [
        "# Testing the stack implementation\n",
        "new_linked_list = LinkedStack()                           # create an object of the linked list class\n",
        "new_linked_list.push(5)                                   # add four elements to the linked list\n",
        "new_linked_list.push(2)\n",
        "new_linked_list.push(6)\n",
        "new_linked_list.push(1)\n",
        "\n",
        "print(\"is empty:\" , new_linked_list.is_empty())           # check if the stack is empty\n",
        "\n",
        "print(\"stack length: \", new_linked_list.__len__())        # Return the number of elements in the stack\n",
        "\n",
        "print(\"top element: \", new_linked_list.top())             # Return the element at top of the stack\n",
        "\n",
        "print(\"element removed: \", new_linked_list.pop())         # Remove and return element from the top of stack\n",
        "\n",
        "print(\"stack length: \", new_linked_list.__len__())        # Return the number of elements in the stack\n",
        "\n",
        "print(\"new top element: \", new_linked_list.top())         # Return the element at top of the stack"
      ],
      "execution_count": null,
      "outputs": [
        {
          "output_type": "stream",
          "text": [
            "is empty: False\n",
            "stack length:  4\n",
            "top element:  1\n",
            "element removed:  1\n",
            "stack length:  3\n",
            "new top element:  6\n"
          ],
          "name": "stdout"
        }
      ]
    },
    {
      "cell_type": "markdown",
      "metadata": {
        "id": "g6XQX5O-ryLK"
      },
      "source": [
        "<font color='gray'> <h3> Exercises:</h3> </font> \n",
        "- 1. Add functions to the singly linked list class to insert an item:\n",
        "    \n",
        "    a. Before another item in the linked list\n",
        "    \n",
        "    b. After another item in the linked list\n",
        "\n",
        "    c. At a specific index in the linked list\n",
        "\n",
        "- 2. Add a function to the singly linked list class to delete an item from the end of the list\n",
        "- 3. Try to implement the queue ADT using a circularly linked list\n"
      ]
    },
    {
      "cell_type": "markdown",
      "metadata": {
        "id": "fJUXdfudryLL"
      },
      "source": [
        "<font color='gray'> <h3> Summary:</h3> </font>  \n",
        "<h6> Through this lab exercise you have learnt how to: </h6>\n",
        "\n",
        "1. Create, insert, traverse and remove items in a singly linked list\n",
        "\n",
        "2. Implement a simple stack and queue ADT using a linked list"
      ]
    },
    {
      "cell_type": "markdown",
      "metadata": {
        "id": "rkR3c3qMryLM"
      },
      "source": [
        "For queries on this practice sheet, please contact Kanika.ag@wilp.bits-pilani.ac.in"
      ]
    },
    {
      "cell_type": "markdown",
      "metadata": {
        "id": "DcE4JkBaryLN"
      },
      "source": [
        "<b> Disclaimer <b> : Some of the contents of this Notebook is adopted from Data Structures and Algorithm Design by Michael T. Goodrich, Roberto Tamassia, Michael H. Goldwasser"
      ]
    }
  ]
}